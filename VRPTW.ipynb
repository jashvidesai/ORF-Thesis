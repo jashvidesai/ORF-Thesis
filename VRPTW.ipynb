{
  "nbformat": 4,
  "nbformat_minor": 0,
  "metadata": {
    "colab": {
      "provenance": [],
      "authorship_tag": "ABX9TyODHHkR3ysOaBx3meAnDfk6",
      "include_colab_link": true
    },
    "kernelspec": {
      "name": "python3",
      "display_name": "Python 3"
    },
    "language_info": {
      "name": "python"
    }
  },
  "cells": [
    {
      "cell_type": "markdown",
      "metadata": {
        "id": "view-in-github",
        "colab_type": "text"
      },
      "source": [
        "<a href=\"https://colab.research.google.com/github/jashvidesai/ORF-Thesis/blob/main/VRPTW.ipynb\" target=\"_parent\"><img src=\"https://colab.research.google.com/assets/colab-badge.svg\" alt=\"Open In Colab\"/></a>"
      ]
    },
    {
      "cell_type": "code",
      "source": [
        "!pip install gurobipy"
      ],
      "metadata": {
        "colab": {
          "base_uri": "https://localhost:8080/"
        },
        "id": "r64XJ1uU5q7n",
        "outputId": "4fa63be8-9378-4bc3-af9a-aad6d4c4739e"
      },
      "execution_count": 1,
      "outputs": [
        {
          "output_type": "stream",
          "name": "stdout",
          "text": [
            "Collecting gurobipy\n",
            "  Downloading gurobipy-12.0.0-cp310-cp310-manylinux2014_x86_64.manylinux_2_17_x86_64.whl.metadata (15 kB)\n",
            "Downloading gurobipy-12.0.0-cp310-cp310-manylinux2014_x86_64.manylinux_2_17_x86_64.whl (14.4 MB)\n",
            "\u001b[2K   \u001b[90m━━━━━━━━━━━━━━━━━━━━━━━━━━━━━━━━━━━━━━━━\u001b[0m \u001b[32m14.4/14.4 MB\u001b[0m \u001b[31m18.5 MB/s\u001b[0m eta \u001b[36m0:00:00\u001b[0m\n",
            "\u001b[?25hInstalling collected packages: gurobipy\n",
            "Successfully installed gurobipy-12.0.0\n"
          ]
        }
      ]
    },
    {
      "cell_type": "code",
      "execution_count": 2,
      "metadata": {
        "colab": {
          "base_uri": "https://localhost:8080/"
        },
        "id": "p-q1iWW_5ZBI",
        "outputId": "9694be1f-47e2-4759-d67a-d245a5028fb6"
      },
      "outputs": [
        {
          "output_type": "stream",
          "name": "stdout",
          "text": [
            "Restricted license - for non-production use only - expires 2026-11-23\n",
            "Gurobi Optimizer version 12.0.0 build v12.0.0rc1 (linux64 - \"Ubuntu 22.04.3 LTS\")\n",
            "\n",
            "CPU model: Intel(R) Xeon(R) CPU @ 2.20GHz, instruction set [SSE2|AVX|AVX2]\n",
            "Thread count: 1 physical cores, 2 logical processors, using up to 2 threads\n",
            "\n",
            "Optimize a model with 105 rows, 48 columns and 276 nonzeros\n",
            "Model fingerprint: 0xda30485a\n",
            "Variable types: 12 continuous, 36 integer (36 binary)\n",
            "Coefficient statistics:\n",
            "  Matrix range     [3e-01, 6e+01]\n",
            "  Objective range  [1e+00, 4e+00]\n",
            "  Bounds range     [1e+00, 1e+00]\n",
            "  RHS range        [1e+00, 6e+01]\n",
            "Found heuristic solution: objective 20.6460000\n",
            "Presolve removed 105 rows and 48 columns\n",
            "Presolve time: 0.00s\n",
            "Presolve: All rows and columns removed\n",
            "\n",
            "Explored 0 nodes (0 simplex iterations) in 0.01 seconds (0.00 work units)\n",
            "Thread count was 1 (of 2 available processors)\n",
            "\n",
            "Solution count 2: 19.902 20.646 \n",
            "\n",
            "Optimal solution found (tolerance 1.00e-04)\n",
            "Best objective 1.990200000000e+01, best bound 1.990200000000e+01, gap 0.0000%\n",
            "Edge (0, 1) is in the optimal route with cost 3.441\n",
            "Edge (0, 2) is in the optimal route with cost 2.232\n",
            "Edge (0, 5) is in the optimal route with cost 3.534\n",
            "Edge (1, 3) is in the optimal route with cost 1.8599999999999999\n",
            "Edge (2, 0) is in the optimal route with cost 2.232\n",
            "Edge (3, 0) is in the optimal route with cost 1.581\n",
            "Edge (4, 0) is in the optimal route with cost 2.79\n",
            "Edge (5, 4) is in the optimal route with cost 2.232\n",
            "Demand satisfied at node 0: 0.0\n",
            "Demand satisfied at node 1: 30.0\n",
            "Demand satisfied at node 2: 55.0\n",
            "Demand satisfied at node 3: 50.0\n",
            "Demand satisfied at node 4: 55.0\n",
            "Demand satisfied at node 5: 30.0\n"
          ]
        }
      ],
      "source": [
        "import gurobipy as gp\n",
        "from gurobipy import GRB\n",
        "import numpy as np\n",
        "\n",
        "# Example parameters\n",
        "V = range(6)  # nodes including depot, 0 is depot\n",
        "V_star = range(1, 6)  # nodes excluding depot\n",
        "K = range(3)\n",
        "Q = 55  # capacity of each vehicle\n",
        "vehicle_speed = 60  # vehicle speed in km/h\n",
        "\n",
        "# DISTANCES\n",
        "np.random.seed(42)\n",
        "distances = np.random.randint(10, 51, size=(len(V), len(V)))\n",
        "# distance matrix symmetric and set the diagonal to 0\n",
        "for i in V:\n",
        "    distances[i, i] = 0\n",
        "    for j in range(i + 1, len(V)):\n",
        "        distances[j, i] = distances[i, j]\n",
        "\n",
        "# triangle inequality enforced\n",
        "for i in V:\n",
        "    for j in V:\n",
        "        for k in V:\n",
        "            if distances[i, j] > distances[i, k] + distances[k, j]:\n",
        "                distances[i, j] = distances[i, k] + distances[k, j]\n",
        "\n",
        "# calculate travel times (distance / speed) and travel costs (distance * $0.15/mile * 0.62 mile/km)\n",
        "# $0.15/mile is the average American cost for gas as per New York Times\n",
        "t = distances / vehicle_speed\n",
        "c = distances * 0.093\n",
        "\n",
        "# Sample demands (including depot which has 0 demand)\n",
        "d = [0, 30, 35, 20, 25, 30]\n",
        "\n",
        "# time window parameters\n",
        "a = [0, 5, 10, 20, 20, 5]  # Earliest arrival times\n",
        "b = [30, 25, 35, 30, 30, 15]  # Latest departure times\n",
        "s = [0, 10, 10, 7, 5, 5]  # Service times\n",
        "\n",
        "# Model setup\n",
        "model = gp.Model(\"VRPTW\")\n",
        "\n",
        "# Decision variables\n",
        "x = model.addVars(V, V, vtype=GRB.BINARY, name=\"x\")  # binary variable\n",
        "q = model.addVars(V, vtype=GRB.CONTINUOUS, name=\"q\")  # continuous variable\n",
        "tau = model.addVars(V, vtype=GRB.CONTINUOUS, name=\"tau\") # continuous variable\n",
        "\n",
        "# objective fn.\n",
        "model.setObjective(gp.quicksum(c[i, j] * x[i, j] for i in V for j in V), GRB.MINIMIZE)\n",
        "\n",
        "# constraints\n",
        "\n",
        "# constraint 1, 2\n",
        "for j in V_star:\n",
        "    model.addConstr(gp.quicksum(x[i, j] for i in V) == 1, name=f\"visit_{j}\")\n",
        "for i in V_star:\n",
        "    model.addConstr(gp.quicksum(x[i, j] for j in V) == 1, name=f\"departure_{i}\")\n",
        "\n",
        "# constraint 3, 4\n",
        "model.addConstr(gp.quicksum(x[i, 0] for i in V_star) <= len(K), name=\"vehicle_out\")\n",
        "model.addConstr(gp.quicksum(x[0, j] for j in V_star) <= len(K), name=\"vehicle_in\")\n",
        "\n",
        "# constraint 5 (fleet size)\n",
        "model.addConstr(gp.quicksum(x[0, j] for j in V_star) <= np.ceil(sum(d[i] for i in V_star) / Q), name=\"fleet_capacity\")\n",
        "\n",
        "# constraint 6 (set depot demand 0)\n",
        "model.addConstr(q[0] == 0, name=\"depot_demand\")\n",
        "\n",
        "# compute M and M_2\n",
        "M = {(i, j): Q - (d[i] + d[j]) if i != j else 0 for i in V_star for j in V_star}\n",
        "M_2 = {(i, j): b[i] - a[j] + s[i] + t[i, j] if i != j else 0 for i in V_star for j in V_star}\n",
        "\n",
        "# constraint 7, 8, 9 (subtour elimination)\n",
        "model.addConstrs((q[i] + d[j] <= q[j] + Q * (1 - x[i, j]) for i in V_star for j in V_star), name=\"load_balance1\")\n",
        "model.addConstrs((q[i] + d[j] >= q[j] - M[i, j] * (1 - x[i, j]) for i in V_star for j in V_star), name=\"load_balance2\")\n",
        "model.addConstrs((q[i] >= d[i] for i in V_star), name=\"demand_lower_bound\")\n",
        "model.addConstrs((q[i] <= Q for i in V_star), name=\"demand_upper_bound\")\n",
        "\n",
        "# constraint 10 (service time subtour)\n",
        "model.addConstrs((tau[i] + s[i] + t[i, j] <= tau[j] + M_2[i, j] * (1 - x[i, j]) for i in V_star for j in V_star if i != j), name=\"service_time\")\n",
        "\n",
        "# constraint 11 (tau bounds)\n",
        "model.addConstrs((a[i] <= tau[i] for i in V_star), name=\"time_window_start\")\n",
        "model.addConstrs((tau[i] <= b[i] for i in V_star), name=\"time_window_end\")\n",
        "\n",
        "# set depot time to zero\n",
        "model.addConstr(tau[0] == 0, name=\"depot_time\")\n",
        "\n",
        "# solve\n",
        "model.optimize()\n",
        "\n",
        "# output\n",
        "if model.status == GRB.OPTIMAL:\n",
        "    solution = model.getAttr('x', x)\n",
        "    for i in V:\n",
        "        for j in V:\n",
        "            if solution[i, j] > 0.5:\n",
        "                print(f\"Edge ({i}, {j}) is in the optimal route with cost {c[i, j]}\")\n",
        "    satisfied_demand = model.getAttr('x', q)\n",
        "    for i in V:\n",
        "        print(f\"Demand satisfied at node {i}: {satisfied_demand[i]}\")\n",
        "else:\n",
        "    print(\"No optimal solution found.\")"
      ]
    },
    {
      "cell_type": "code",
      "source": [
        "import matplotlib.pyplot as plt\n",
        "import networkx as nx\n",
        "\n",
        "# Create a directed graph for visualization using NetworkX\n",
        "G = nx.DiGraph()\n",
        "\n",
        "# Add nodes to the graph\n",
        "for node in V:\n",
        "    G.add_node(node, pos=(np.random.rand() * 100, np.random.rand() * 100))  # random positions\n",
        "\n",
        "# Add edges and labels for optimal paths in the solution\n",
        "edges_in_route = []\n",
        "if model.status == GRB.OPTIMAL:\n",
        "    solution = model.getAttr('x', x)\n",
        "    for i in V:\n",
        "        for j in V:\n",
        "            if solution[i, j] > 0.5:  # If edge (i, j) is in the optimal route\n",
        "                G.add_edge(i, j, weight=c[i, j])\n",
        "                edges_in_route.append((i, j))\n",
        "\n",
        "# Get positions of nodes for plotting\n",
        "pos = nx.get_node_attributes(G, 'pos')\n",
        "\n",
        "# Draw nodes\n",
        "plt.figure(figsize=(8, 6))\n",
        "nx.draw_networkx_nodes(G, pos, node_size=500, node_color='lightblue')\n",
        "nx.draw_networkx_labels(G, pos, font_size=12, font_weight='bold')\n",
        "\n",
        "# Draw all edges (faded for non-selected paths)\n",
        "nx.draw_networkx_edges(G, pos, edge_color='gray', alpha=0.3, arrows=False)\n",
        "\n",
        "# Highlight edges in the optimal route with arrows\n",
        "nx.draw_networkx_edges(G, pos, edgelist=edges_in_route, edge_color='orange', width=2,\n",
        "                       arrowstyle='->', arrowsize=15)\n",
        "\n",
        "plt.axis(\"off\")\n",
        "plt.show()"
      ],
      "metadata": {
        "colab": {
          "base_uri": "https://localhost:8080/",
          "height": 499
        },
        "id": "QCCRsoYrzkl8",
        "outputId": "5f45649b-6bd3-41be-cf5d-6b1a6aa5de82"
      },
      "execution_count": 48,
      "outputs": [
        {
          "output_type": "display_data",
          "data": {
            "text/plain": [
              "<Figure size 800x600 with 1 Axes>"
            ],
            "image/png": "[encoded data removed]"
          },
          "metadata": {}
        }
      ]
    }
  ]
}